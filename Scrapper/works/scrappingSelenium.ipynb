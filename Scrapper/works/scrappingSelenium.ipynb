{
 "cells": [
  {
   "cell_type": "code",
   "execution_count": 1,
   "metadata": {},
   "outputs": [
    {
     "ename": "AttributeError",
     "evalue": "'NoneType' object has no attribute 'split'",
     "output_type": "error",
     "traceback": [
      "\u001b[1;31m---------------------------------------------------------------------------\u001b[0m",
      "\u001b[1;31mAttributeError\u001b[0m                            Traceback (most recent call last)",
      "\u001b[1;32mc:\\Users\\loannmr\\Documents\\DEV\\Epitech\\T-DAT-901-LYO_1\\Scrapper\\I DID\\scrappingSelenium.ipynb Cell 1\u001b[0m line \u001b[0;36m4\n\u001b[0;32m      <a href='vscode-notebook-cell:/c%3A/Users/loannmr/Documents/DEV/Epitech/T-DAT-901-LYO_1/Scrapper/I%20DID/scrappingSelenium.ipynb#W0sZmlsZQ%3D%3D?line=0'>1</a>\u001b[0m \u001b[39mfrom\u001b[39;00m \u001b[39mwebdriver_manager\u001b[39;00m\u001b[39m.\u001b[39;00m\u001b[39mchrome\u001b[39;00m \u001b[39mimport\u001b[39;00m ChromeDriverManager\n\u001b[0;32m      <a href='vscode-notebook-cell:/c%3A/Users/loannmr/Documents/DEV/Epitech/T-DAT-901-LYO_1/Scrapper/I%20DID/scrappingSelenium.ipynb#W0sZmlsZQ%3D%3D?line=2'>3</a>\u001b[0m \u001b[39m# install Chrome driver if not installed\u001b[39;00m\n\u001b[1;32m----> <a href='vscode-notebook-cell:/c%3A/Users/loannmr/Documents/DEV/Epitech/T-DAT-901-LYO_1/Scrapper/I%20DID/scrappingSelenium.ipynb#W0sZmlsZQ%3D%3D?line=3'>4</a>\u001b[0m driver \u001b[39m=\u001b[39m ChromeDriverManager()\u001b[39m.\u001b[39minstall()\n",
      "File \u001b[1;32mc:\\Users\\loannmr\\.conda\\envs\\scraping\\Lib\\site-packages\\webdriver_manager\\chrome.py:40\u001b[0m, in \u001b[0;36mChromeDriverManager.install\u001b[1;34m(self)\u001b[0m\n\u001b[0;32m     39\u001b[0m \u001b[39mdef\u001b[39;00m \u001b[39minstall\u001b[39m(\u001b[39mself\u001b[39m) \u001b[39m-\u001b[39m\u001b[39m>\u001b[39m \u001b[39mstr\u001b[39m:\n\u001b[1;32m---> 40\u001b[0m     driver_path \u001b[39m=\u001b[39m \u001b[39mself\u001b[39m\u001b[39m.\u001b[39m_get_driver_binary_path(\u001b[39mself\u001b[39m\u001b[39m.\u001b[39mdriver)\n\u001b[0;32m     41\u001b[0m     os\u001b[39m.\u001b[39mchmod(driver_path, \u001b[39m0o755\u001b[39m)\n\u001b[0;32m     42\u001b[0m     \u001b[39mreturn\u001b[39;00m driver_path\n",
      "File \u001b[1;32mc:\\Users\\loannmr\\.conda\\envs\\scraping\\Lib\\site-packages\\webdriver_manager\\core\\manager.py:40\u001b[0m, in \u001b[0;36mDriverManager._get_driver_binary_path\u001b[1;34m(self, driver)\u001b[0m\n\u001b[0;32m     37\u001b[0m     \u001b[39mreturn\u001b[39;00m binary_path\n\u001b[0;32m     39\u001b[0m os_type \u001b[39m=\u001b[39m \u001b[39mself\u001b[39m\u001b[39m.\u001b[39mget_os_type()\n\u001b[1;32m---> 40\u001b[0m file \u001b[39m=\u001b[39m \u001b[39mself\u001b[39m\u001b[39m.\u001b[39m_download_manager\u001b[39m.\u001b[39mdownload_file(driver\u001b[39m.\u001b[39mget_driver_download_url(os_type))\n\u001b[0;32m     41\u001b[0m binary_path \u001b[39m=\u001b[39m \u001b[39mself\u001b[39m\u001b[39m.\u001b[39m_cache_manager\u001b[39m.\u001b[39msave_file_to_cache(driver, file)\n\u001b[0;32m     42\u001b[0m \u001b[39mreturn\u001b[39;00m binary_path\n",
      "File \u001b[1;32mc:\\Users\\loannmr\\.conda\\envs\\scraping\\Lib\\site-packages\\webdriver_manager\\drivers\\chrome.py:32\u001b[0m, in \u001b[0;36mChromeDriver.get_driver_download_url\u001b[1;34m(self, os_type)\u001b[0m\n\u001b[0;32m     31\u001b[0m \u001b[39mdef\u001b[39;00m \u001b[39mget_driver_download_url\u001b[39m(\u001b[39mself\u001b[39m, os_type):\n\u001b[1;32m---> 32\u001b[0m     driver_version_to_download \u001b[39m=\u001b[39m \u001b[39mself\u001b[39m\u001b[39m.\u001b[39mget_driver_version_to_download()\n\u001b[0;32m     33\u001b[0m     \u001b[39m# For Mac ARM CPUs after version 106.0.5249.61 the format of OS type changed\u001b[39;00m\n\u001b[0;32m     34\u001b[0m     \u001b[39m# to more unified \"mac_arm64\". For newer versions, it'll be \"mac_arm64\"\u001b[39;00m\n\u001b[0;32m     35\u001b[0m     \u001b[39m# by default, for lower versions we replace \"mac_arm64\" to old format - \"mac64_m1\".\u001b[39;00m\n\u001b[0;32m     36\u001b[0m     \u001b[39mif\u001b[39;00m version\u001b[39m.\u001b[39mparse(driver_version_to_download) \u001b[39m<\u001b[39m version\u001b[39m.\u001b[39mparse(\u001b[39m\"\u001b[39m\u001b[39m106.0.5249.61\u001b[39m\u001b[39m\"\u001b[39m):\n",
      "File \u001b[1;32mc:\\Users\\loannmr\\.conda\\envs\\scraping\\Lib\\site-packages\\webdriver_manager\\core\\driver.py:48\u001b[0m, in \u001b[0;36mDriver.get_driver_version_to_download\u001b[1;34m(self)\u001b[0m\n\u001b[0;32m     45\u001b[0m \u001b[39mif\u001b[39;00m \u001b[39mself\u001b[39m\u001b[39m.\u001b[39m_driver_version_to_download:\n\u001b[0;32m     46\u001b[0m     \u001b[39mreturn\u001b[39;00m \u001b[39mself\u001b[39m\u001b[39m.\u001b[39m_driver_version_to_download\n\u001b[1;32m---> 48\u001b[0m \u001b[39mreturn\u001b[39;00m \u001b[39mself\u001b[39m\u001b[39m.\u001b[39mget_latest_release_version()\n",
      "File \u001b[1;32mc:\\Users\\loannmr\\.conda\\envs\\scraping\\Lib\\site-packages\\webdriver_manager\\drivers\\chrome.py:64\u001b[0m, in \u001b[0;36mChromeDriver.get_latest_release_version\u001b[1;34m(self)\u001b[0m\n\u001b[0;32m     62\u001b[0m     \u001b[39mreturn\u001b[39;00m determined_browser_version\n\u001b[0;32m     63\u001b[0m \u001b[39m# Remove the build version (the last segment) from determined_browser_version for version < 113\u001b[39;00m\n\u001b[1;32m---> 64\u001b[0m determined_browser_version \u001b[39m=\u001b[39m \u001b[39m\"\u001b[39m\u001b[39m.\u001b[39m\u001b[39m\"\u001b[39m\u001b[39m.\u001b[39mjoin(determined_browser_version\u001b[39m.\u001b[39msplit(\u001b[39m\"\u001b[39m\u001b[39m.\u001b[39m\u001b[39m\"\u001b[39m)[:\u001b[39m3\u001b[39m])\n\u001b[0;32m     65\u001b[0m latest_release_url \u001b[39m=\u001b[39m (\n\u001b[0;32m     66\u001b[0m     \u001b[39mself\u001b[39m\u001b[39m.\u001b[39m_latest_release_url\n\u001b[0;32m     67\u001b[0m     \u001b[39mif\u001b[39;00m (determined_browser_version \u001b[39mis\u001b[39;00m \u001b[39mNone\u001b[39;00m)\n\u001b[0;32m     68\u001b[0m     \u001b[39melse\u001b[39;00m \u001b[39mf\u001b[39m\u001b[39m\"\u001b[39m\u001b[39m{\u001b[39;00m\u001b[39mself\u001b[39m\u001b[39m.\u001b[39m_latest_release_url\u001b[39m}\u001b[39;00m\u001b[39m_\u001b[39m\u001b[39m{\u001b[39;00mdetermined_browser_version\u001b[39m}\u001b[39;00m\u001b[39m\"\u001b[39m\n\u001b[0;32m     69\u001b[0m )\n\u001b[0;32m     70\u001b[0m resp \u001b[39m=\u001b[39m \u001b[39mself\u001b[39m\u001b[39m.\u001b[39m_http_client\u001b[39m.\u001b[39mget(url\u001b[39m=\u001b[39mlatest_release_url)\n",
      "\u001b[1;31mAttributeError\u001b[0m: 'NoneType' object has no attribute 'split'"
     ]
    }
   ],
   "source": [
    "from webdriver_manager.chrome import ChromeDriverManager\n",
    "\n",
    "# install Chrome driver if not installed\n",
    "driver = ChromeDriverManager().install()"
   ]
  },
  {
   "cell_type": "code",
   "execution_count": 2,
   "metadata": {},
   "outputs": [],
   "source": [
    "from confluent_kafka import Producer\n",
    "import json\n",
    "\n",
    "# with open('data.json', 'w') as json_file:\n",
    "#     json.dump(feed, json_file, indent=4)\n",
    "\n",
    "# with open('data.json', 'r') as json_file:\n",
    "#     data = json.load(json_file)\n",
    "\n",
    "def produce_data(topic_name:str, data: dict):\n",
    "    \"\"\"\n",
    "    Send data to the broker\n",
    "    Args:\n",
    "        data (dict): data to send\n",
    "    \"\"\"\n",
    "    # Configure the Kafka producer\n",
    "    conf = {\n",
    "        'bootstrap.servers': '127.0.0.1:9092',  # Broker address\n",
    "        'client.id': 'python-producer',\n",
    "        'delivery.timeout.ms': 5000\n",
    "    }\n",
    "\n",
    "    # Create a Kafka producer with the given configuration\n",
    "    producer = Producer(conf)\n",
    "\n",
    "    # Callback function to handle delivery reports\n",
    "    def delivery_report(err, msg):\n",
    "        if err is not None:\n",
    "            print(f\"Message delivery failed: {err}\")\n",
    "        else:\n",
    "            print(f\"Message delivered to {msg.topic()} [{msg.partition()}]\")\n",
    "\n",
    "    # Send the JSON data to the Kafka topic\n",
    "    producer.produce(topic_name, value=json.dumps(data), on_delivery=delivery_report)\n",
    "    producer.poll(10000)\n",
    "\n",
    "    # Wait for any outstanding messages to be delivered and delivery reports to be received\n",
    "    producer.flush()"
   ]
  },
  {
   "cell_type": "code",
   "execution_count": 1,
   "metadata": {},
   "outputs": [],
   "source": [
    "from selenium import webdriver\n",
    "from selenium.webdriver.chrome.options import Options\n",
    "from selenium.webdriver.common.by import By\n",
    "import json\n",
    "from datetime import datetime\n",
    "\n",
    "options = Options()\n",
    "options.add_argument(\"--headless\")\n",
    "options.add_argument(\"--window-size=1920,1080\")\n",
    "driver = webdriver.Chrome(options=options)\n",
    "\n",
    "url = 'https://www.cryptocompare.com/coins/list/all/USD/1'\n",
    "\n",
    "# start connection\n",
    "driver.get(url)\n",
    "trs = driver.find_elements(By.CSS_SELECTOR, \"tr.ng-scope\")\n",
    "\n",
    "currencies = []\n",
    "try:\n",
    "    for i, tr in enumerate(trs):\n",
    "        if i == 10:\n",
    "            break\n",
    "\n",
    "        tds = tr.find_elements(By.CSS_SELECTOR, \"td\")\n",
    "\n",
    "        currency = {\n",
    "            \"place\": tds[0].find_element(By.XPATH, \"div\").text,\n",
    "            \"name\": tds[2].find_element(By.CSS_SELECTOR, \"h3\").text,\n",
    "            \"price\": tds[3].find_element(By.XPATH, \"div\").text,\n",
    "            \"volume\": tds[5].find_element(By.XPATH, \"div\").text,\n",
    "            \"top_tier_volume\": tds[6].find_element(By.XPATH, \"div\").text,\n",
    "            \"market_cap\": tds[7].find_element(By.XPATH, \"div\").text,\n",
    "            \"percentage_change\": tds[9].find_element(By.XPATH, \"div\").text\n",
    "        }\n",
    "\n",
    "        currencies.append(currency)\n",
    "\n",
    "    # save the informations to json\n",
    "    feed = {\n",
    "        \"timestamp\": str(datetime.now()),\n",
    "        \"data\": currencies\n",
    "    }\n",
    "\n",
    "    # with open('data.json', 'w') as json_file:\n",
    "    #     json.dump(feed, json_file, indent=4)\n",
    "    # produce the data to the broker\n",
    "    produce_data('crypto.cryptocompare', feed)\n",
    "    \n",
    "    \n",
    "except Exception as error:\n",
    "    raise(error)\n",
    "\n",
    "# close the connection\n",
    "driver.quit()"
   ]
  },
  {
   "cell_type": "markdown",
   "metadata": {},
   "source": [
    "delete topics (it is crashing in confluent admin)"
   ]
  },
  {
   "cell_type": "code",
   "execution_count": 18,
   "metadata": {},
   "outputs": [
    {
     "name": "stdout",
     "output_type": "stream",
     "text": [
      "Topic y deleted.\n"
     ]
    }
   ],
   "source": [
    "from confluent_kafka.admin import AdminClient, NewTopic, NewPartitions, ConfigResource\n",
    "\n",
    "conf = {\n",
    "    'bootstrap.servers': '127.0.0.1:9092',  # Broker address\n",
    "}\n",
    "\n",
    "admin_client = AdminClient(conf)\n",
    "\n",
    "topic_to_delete = \"y\"\n",
    "admin_client.delete_topics([topic_to_delete], operation_timeout=30)\n",
    "\n",
    "print(f\"Topic {topic_to_delete} deleted.\")"
   ]
  },
  {
   "cell_type": "code",
   "execution_count": null,
   "metadata": {},
   "outputs": [],
   "source": []
  }
 ],
 "metadata": {
  "kernelspec": {
   "display_name": "scrapping",
   "language": "python",
   "name": "python3"
  },
  "language_info": {
   "codemirror_mode": {
    "name": "ipython",
    "version": 3
   },
   "file_extension": ".py",
   "mimetype": "text/x-python",
   "name": "python",
   "nbconvert_exporter": "python",
   "pygments_lexer": "ipython3",
   "version": "3.11.5"
  }
 },
 "nbformat": 4,
 "nbformat_minor": 2
}
